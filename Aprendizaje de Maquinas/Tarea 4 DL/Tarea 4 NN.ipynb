{
 "cells": [
  {
   "cell_type": "markdown",
   "id": "0a998a61",
   "metadata": {},
   "source": [
    "# Dataset"
   ]
  },
  {
   "cell_type": "code",
   "execution_count": 1,
   "id": "aa046576",
   "metadata": {},
   "outputs": [
    {
     "name": "stdout",
     "output_type": "stream",
     "text": [
      "60000\n",
      "Training data: 50000\n",
      "Validation data: 10000\n",
      "Test data: 10000\n"
     ]
    }
   ],
   "source": [
    "import torch\n",
    "#Dataset\n",
    "from torchvision.datasets import MNIST\n",
    "#Transform\n",
    "from torchvision.transforms import ToTensor\n",
    "#Utils\n",
    "from torch.utils.data import random_split\n",
    "\n",
    "#Carga de datos\n",
    "#Datos para entrenamiento\n",
    "total_training_data = MNIST(root=\"data\", train=True, download=True, transform=ToTensor())\n",
    "total_len = len(total_training_data)\n",
    "print(total_len)\n",
    "\n",
    "training_data, validation_data = random_split(total_training_data, [int(total_len*5/6), int(total_len/6)])\n",
    "print(\"Training data: {}\".format(len(training_data)))\n",
    "print(\"Validation data: {}\".format(len(validation_data)))\n",
    "\n",
    "#Datos para evaluación\n",
    "test_data = MNIST(root=\"data\", train=False, download=True, transform=ToTensor())\n",
    "print(\"Test data: {}\".format(len(test_data)))"
   ]
  },
  {
   "cell_type": "code",
   "execution_count": 2,
   "id": "6ccd2316",
   "metadata": {},
   "outputs": [
    {
     "data": {
      "text/plain": [
       "<matplotlib.image.AxesImage at 0x1672ff03dc0>"
      ]
     },
     "execution_count": 2,
     "metadata": {},
     "output_type": "execute_result"
    },
    {
     "data": {
      "image/png": "[encoded data removed]",
      "text/plain": [
       "<Figure size 432x288 with 1 Axes>"
      ]
     },
     "metadata": {
      "needs_background": "light"
     },
     "output_type": "display_data"
    }
   ],
   "source": [
    "import matplotlib.pyplot as plt\n",
    "\n",
    "#Se muestra el primer elemento del conjunto de entrenamiento\n",
    "image, label = training_data[89]\n",
    "plt.imshow(image.squeeze())"
   ]
  },
  {
   "cell_type": "code",
   "execution_count": 3,
   "id": "a8e3820f",
   "metadata": {},
   "outputs": [
    {
     "data": {
      "image/png": "[encoded data removed]",
      "text/plain": [
       "<Figure size 576x576 with 12 Axes>"
      ]
     },
     "metadata": {
      "needs_background": "light"
     },
     "output_type": "display_data"
    }
   ],
   "source": [
    "#Etiquetas\n",
    "labels_map = {\n",
    "    0: \"0\",\n",
    "    1: \"1\",\n",
    "    2: \"2\",\n",
    "    3: \"3\",\n",
    "    4: \"4\",\n",
    "    5: \"5\",\n",
    "    6: \"6\",\n",
    "    7: \"7\",\n",
    "    8: \"8\",\n",
    "    9: \"9\",\n",
    "}\n",
    "#Se muestran elementos al azar del conjunto de entrenamiento junto a su etiqueta\n",
    "figure = plt.figure(figsize=(8, 8))\n",
    "cols, rows = 4, 3\n",
    "for i in range(1, cols * rows + 1):\n",
    "    #Se escoge una muestra aleatoria\n",
    "    sample_idx = torch.randint(len(training_data), size=(1,)).item()\n",
    "    img, label = training_data[sample_idx]\n",
    "    figure.add_subplot(rows, cols, i)\n",
    "    plt.title(labels_map[label])\n",
    "    plt.axis(\"off\")\n",
    "    plt.imshow(img.squeeze(), cmap=\"gray\")\n",
    "plt.show()"
   ]
  },
  {
   "cell_type": "markdown",
   "id": "346fd070",
   "metadata": {},
   "source": [
    "## Dataloader"
   ]
  },
  {
   "cell_type": "code",
   "execution_count": 4,
   "id": "570a8a78",
   "metadata": {},
   "outputs": [],
   "source": [
    "#DataLoader\n",
    "from torch.utils.data import DataLoader\n",
    "\n",
    "#Se insertan los elementos en un objeto DataLoader\n",
    "#para facilitar el acceso a ellos \n",
    "batch = 100\n",
    "training_dataloader = DataLoader(training_data, batch_size = batch, shuffle = False)\n",
    "validation_dataloader = DataLoader(validation_data, batch_size = batch, shuffle = False)\n",
    "test_dataloader = DataLoader(test_data, batch_size = batch, shuffle = False)\n"
   ]
  },
  {
   "cell_type": "markdown",
   "id": "101e2a2a",
   "metadata": {},
   "source": [
    "# Model"
   ]
  },
  {
   "cell_type": "code",
   "execution_count": 5,
   "id": "2068d02d",
   "metadata": {},
   "outputs": [],
   "source": [
    "#Neuronal network model\n",
    "import torch.nn as nn\n",
    "import torch.nn.functional as F\n",
    "\n",
    "#Para crear una red neuronal es obligatorio heredar de la clase nn.Module\n",
    "#Esta clase crea un red neuronal con las capas, el número de neuronas por capa\n",
    "#y el dropout que se fije.\n",
    "class MyNN(nn.Module):\n",
    "\n",
    "    def __init__(self, layers: int, neurons: tuple, dropout: nn.Dropout = None):\n",
    "        \"\"\"\n",
    "        Parameters\n",
    "        ----------\n",
    "        layers: int\n",
    "            number of hidden layers of the neural network\n",
    "        neurons: tuple\n",
    "            number of neurons in each layer\n",
    "        dropout: nn.Dropout\n",
    "            activate dropout or not.\n",
    "            Example: nn.Dropout\n",
    "        \"\"\"\n",
    "        super().__init__()\n",
    "        self.layers = nn.Sequential()\n",
    "        for i in range(layers):\n",
    "            actual_layer = nn.Linear(neurons[i], neurons[i+1])\n",
    "            self.layers.append(actual_layer)\n",
    "            # Dropout\n",
    "            if dropout:\n",
    "                self.layers.append(dropout)\n",
    "            #Funcion de activacion ReLu\n",
    "            self.layers.append(nn.ReLU())\n",
    "            \n",
    "    \n",
    "    def forward(self, x):\n",
    "        #Primero hay que transformar la imagen a vector\n",
    "        output = x.view(-1, 28*28)\n",
    "        output = self.layers(output)\n",
    "        return output"
   ]
  },
  {
   "cell_type": "markdown",
   "id": "8270c097",
   "metadata": {},
   "source": [
    "## Training"
   ]
  },
  {
   "cell_type": "markdown",
   "id": "5eccda59",
   "metadata": {},
   "source": [
    "### Training Function"
   ]
  },
  {
   "cell_type": "code",
   "execution_count": 130,
   "id": "f0520d51",
   "metadata": {},
   "outputs": [],
   "source": [
    "#Training function\n",
    "# El entrenamiento necesita el dataset, el modelo, la función de error y el optimizador\n",
    "def train_MNIST(training_dataset: DataLoader, model: MyNN, \n",
    "                loss_fn: nn.CrossEntropyLoss, optimizer: optim.Adam) -> float:\n",
    "\n",
    "    #Training\n",
    "\n",
    "    #Primero se coloca el modelo en modo train\n",
    "    model.train()\n",
    "    total_loss = 0\n",
    "    for inputs, labels in training_dataset:\n",
    "\n",
    "        #Ejecutar modelo\n",
    "        predictions = model(inputs)\n",
    "        #Evaluar loss\n",
    "        loss = loss_fn(predictions, labels)\n",
    "        #Backpropagation\n",
    "        optimizer.zero_grad()\n",
    "        loss.backward()\n",
    "        #Optimizar\n",
    "        optimizer.step()\n",
    "        #Guardar loss actual\n",
    "        total_loss += loss.item()\n",
    "    \n",
    "    num_batches = len(training_dataset)\n",
    "    return total_loss/num_batches\n",
    "    "
   ]
  },
  {
   "cell_type": "markdown",
   "id": "ac69240f",
   "metadata": {},
   "source": [
    "### Validation Function"
   ]
  },
  {
   "cell_type": "code",
   "execution_count": 9,
   "id": "46159659",
   "metadata": {},
   "outputs": [],
   "source": [
    "# La validación necesita el dataset, el modelo, el nombre del modelo y la función de error\n",
    "def validation_MNIST(validation_dataset: DataLoader, model: MyNN,  \n",
    "                    loss_fn: nn.CrossEntropyLoss) -> float:\n",
    "\n",
    "    #Validation\n",
    "    model.eval()\n",
    "    with torch.no_grad():\n",
    "        total_loss = 0\n",
    "        for inputs, labels in validation_dataset:\n",
    "            \n",
    "            #Ejecuto modelo\n",
    "            predictions = model(inputs)\n",
    "            #Calculo error\n",
    "            loss = loss_fn(predictions, labels)\n",
    "            total_loss += loss.item()\n",
    "\n",
    "        num_batches = len(validation_dataset)\n",
    "        return total_loss/num_batches"
   ]
  },
  {
   "cell_type": "markdown",
   "id": "c5cb704e",
   "metadata": {},
   "source": [
    "### Epochs Training"
   ]
  },
  {
   "cell_type": "code",
   "execution_count": 131,
   "id": "5f48b5d4",
   "metadata": {},
   "outputs": [],
   "source": [
    "##### Entrenamiento #####\n",
    "import math\n",
    "\n",
    "def epochs_training(epochs: int, train_dataloader: DataLoader, val_dataloader: DataLoader, \n",
    "                    model: MyNN, loss_fn: nn.CrossEntropyLoss, optim: optim):\n",
    "\n",
    "    losses = []\n",
    "    losses_val = []\n",
    "    min_loss = math.inf\n",
    "    best_model = None\n",
    "    \n",
    "    for epoch in range(epochs):\n",
    "        #Train\n",
    "        train_loss = train_MNIST(train_dataloader, model, loss_fn, optim)\n",
    "        #Validation\n",
    "        val_loss = validation_MNIST(val_dataloader, model, loss_fn)\n",
    "\n",
    "        print(\"Epoch: {} - Train Loss: {:.6f} - Validation Loss: {:.6f}\".format(\n",
    "            epoch+1, train_loss, val_loss))\n",
    "        \n",
    "        #Se guarda modelo con menor loss\n",
    "        if val_loss < min_loss:\n",
    "            min_loss = val_loss\n",
    "            #Guardar modelo\n",
    "            best_model = model.state_dict()\n",
    "            #torch.save(best_model, \"model.pt\")\n",
    "\n",
    "        losses.append(train_loss)\n",
    "        losses_val.append(val_loss)\n",
    "\n",
    "    return losses, losses_val, best_model"
   ]
  },
  {
   "cell_type": "markdown",
   "id": "7f4d57b1",
   "metadata": {},
   "source": [
    "## Test"
   ]
  },
  {
   "cell_type": "code",
   "execution_count": 127,
   "id": "e8d3d928",
   "metadata": {},
   "outputs": [],
   "source": [
    "from sklearn.metrics import accuracy_score\n",
    "\n",
    "def test_MNIST(test_dataset: DataLoader, model: MyNN, loss_fn: nn.CrossEntropyLoss):\n",
    "    #Red en modo test (eval)\n",
    "    model.eval()\n",
    "    #Listas de almacenamiento\n",
    "    total_loss = 0\n",
    "    all_labels = torch.Tensor()\n",
    "    all_predictions = torch.Tensor()\n",
    "    #correct = 0\n",
    "\n",
    "    with torch.no_grad():\n",
    "        #Primero se debe trabajar con los batch de elementos\n",
    "        for inputs, labels in test_dataset:\n",
    "            \n",
    "            #Evaluar red\n",
    "            predictions = model(inputs)\n",
    "            #Calcular error entre predicciones y etiquetas\n",
    "            loss = loss_fn(predictions, labels)\n",
    "            #Backpropagation X\n",
    "            #Optimizar X\n",
    "\n",
    "            #Calcular accuracy (precision)\n",
    "\n",
    "            #for i in range(len(labels)):\n",
    "            #    #print(predictions[i].argmax(), labels[i])\n",
    "            #    if predictions[i].argmax() == labels[i]:\n",
    "            #        correct += 1\n",
    "\n",
    "            all_labels = torch.cat((all_labels, labels), dim=0)\n",
    "            all_predictions = torch.cat((all_predictions, predictions.argmax(1)), dim=0)\n",
    "            #accuracy += correct/len(labels)\n",
    "            #print(accuracy)\n",
    "\n",
    "            #Almacenar loss y accuracy\n",
    "            total_loss += loss.item()\n",
    "    \n",
    "    accuracy = accuracy_score(all_labels, all_predictions)\n",
    "    num_batches = len(test_dataset)\n",
    "    return {'loss': total_loss/num_batches, 'accuracy': accuracy*100}\n",
    "\n"
   ]
  },
  {
   "cell_type": "markdown",
   "id": "007ce1cd",
   "metadata": {},
   "source": [
    "## Results"
   ]
  },
  {
   "cell_type": "markdown",
   "id": "8a6822c5",
   "metadata": {},
   "source": [
    "### Plot Function"
   ]
  },
  {
   "cell_type": "code",
   "execution_count": 11,
   "id": "4b1558fe",
   "metadata": {},
   "outputs": [],
   "source": [
    "import numpy as np\n",
    "\n",
    "#Función para generar gráficos\n",
    "def loss_plotter(ax: plt.Axes, epochs_list, losses_train, losses_val):\n",
    "    \"\"\"\n",
    "    A helper function to make a graph.\n",
    "    \"\"\"\n",
    "    epochs = len(epochs_list)\n",
    "    ax.set_title(\"Loss vs época\")\n",
    "    ax.set_xlabel(\"Época\")\n",
    "    ax.set_ylabel(\"Loss\")\n",
    "    ax.set_xticks(np.arange(2, epochs+1, 2))\n",
    "    ax.set_xlim(0, epochs + 1)\n",
    "    ax.plot(epochs_list, losses_train, marker='o', label='Train')\n",
    "    out_plot = ax.plot(epochs_list, losses_val, marker='*', label='Validation')\n",
    "    ax.legend()\n",
    "    return out_plot"
   ]
  },
  {
   "cell_type": "markdown",
   "id": "5184816e",
   "metadata": {},
   "source": [
    "### Confusion Matrix Function"
   ]
  },
  {
   "cell_type": "code",
   "execution_count": 110,
   "id": "277e4527",
   "metadata": {},
   "outputs": [],
   "source": [
    "# Confusion Matrix\n",
    "from sklearn.metrics import confusion_matrix\n",
    "from sklearn.metrics import ConfusionMatrixDisplay\n",
    "\n",
    "def confusion_matrix_MNIST(test_dataset: DataLoader, model: MyNN, title: str =''):\n",
    "    #Red en modo test (eval)\n",
    "    model.eval()\n",
    "    #Listas de almacenamiento\n",
    "    all_predictions = torch.Tensor()\n",
    "    all_labels = torch.Tensor()\n",
    "\n",
    "    with torch.no_grad():\n",
    "        #Primero se debe trabajar con los batch de elementos\n",
    "        for inputs, labels in test_dataset:\n",
    "            \n",
    "            #Evaluar red\n",
    "            predictions = model(inputs)\n",
    "            #Calcular error entre predicciones y etiquetas X\n",
    "            #Backpropagation X\n",
    "            #Optimizar X\n",
    "            predictions = predictions.argmax(1)\n",
    "            #print(labels)\n",
    "            #print(predictions)\n",
    "            all_predictions = torch.cat((all_predictions, predictions), dim = 0)\n",
    "            all_labels = torch.cat((all_labels, labels), dim = 0)\n",
    "    \n",
    "    cm = confusion_matrix(all_labels, all_predictions, \n",
    "                        labels= list(range(0, 10)), normalize='true')\n",
    "    fig, ax = plt.subplots()\n",
    "    fig.set_size_inches(10,8)\n",
    "    ax.set_title(title)\n",
    "    cm = ConfusionMatrixDisplay.from_predictions(all_labels, all_predictions,\n",
    "                                labels=list(range(0, 10)), normalize='true',\n",
    "                                ax=ax)\n",
    "    return fig"
   ]
  },
  {
   "cell_type": "markdown",
   "id": "851c2532",
   "metadata": {},
   "source": [
    "# Networks"
   ]
  },
  {
   "cell_type": "code",
   "execution_count": null,
   "id": "5a62971e",
   "metadata": {},
   "outputs": [],
   "source": [
    "#Neurons\n",
    "input_n = 28*28\n",
    "hidden = 100\n",
    "output_n = 10\n",
    "\n",
    "nn_model_1layer = MyNN(layers = 1, neurons = (input_n, output_n))\n",
    "nn_model_2layer = MyNN(layers = 2, neurons = (input_n, hidden, output_n))\n",
    "nn_model_1layer_regL2 = MyNN(layers = 1, neurons = (input_n, output_n))\n",
    "nn_model_1layer_dropout = MyNN(layers = 1, neurons = (input_n, output_n), dropout = nn.Dropout())\n",
    "\n",
    "print(\"1 layer:\")\n",
    "print(nn_model_1layer)\n",
    "\n",
    "print(\"2 layer:\")\n",
    "print(nn_model_2layer)\n",
    "\n",
    "print(\"1 layer dropout:\")\n",
    "print(nn_model_1layer_dropout)"
   ]
  },
  {
   "cell_type": "markdown",
   "id": "5d481a89",
   "metadata": {},
   "source": [
    "## Optimize"
   ]
  },
  {
   "cell_type": "code",
   "execution_count": 7,
   "id": "8727cecd",
   "metadata": {},
   "outputs": [],
   "source": [
    "import torch.optim as optim\n",
    "#Optimizer\n",
    "loss_fn = nn.CrossEntropyLoss()\n",
    "learning_rate = 2*1e-4\n",
    "optim_1layer = optim.Adam(nn_model_1layer.parameters(), lr=learning_rate)\n",
    "optim_2layer = optim.Adam(nn_model_2layer.parameters(), lr=learning_rate)\n",
    "optim_1layer_regL2 = optim.Adam(nn_model_1layer_regL2.parameters(), lr=learning_rate, \n",
    "                            weight_decay=0.5)\n",
    "optim_1layer_dropout = optim.Adam(nn_model_1layer_dropout.parameters(), lr=learning_rate)\n"
   ]
  },
  {
   "cell_type": "code",
   "execution_count": 12,
   "id": "d97d66ef",
   "metadata": {},
   "outputs": [],
   "source": [
    "import pickle\n",
    "\n",
    "epochs = 20\n",
    "epochs_list = np.arange(1, epochs+1)\n"
   ]
  },
  {
   "cell_type": "markdown",
   "id": "df3ddfcf",
   "metadata": {},
   "source": [
    "## 1 Layer Neural Network"
   ]
  },
  {
   "cell_type": "markdown",
   "id": "63a98c2d",
   "metadata": {},
   "source": [
    "### Carga de modelo"
   ]
  },
  {
   "cell_type": "code",
   "execution_count": 132,
   "id": "3c3363e6",
   "metadata": {},
   "outputs": [
    {
     "name": "stdout",
     "output_type": "stream",
     "text": [
      "Losses [1.453238818526268, 0.8975136140584946, 0.7516856009960174, 0.6814111783504486, 0.639093763589859, 0.6104502834677696, 0.5896371367573738, 0.5738126760721207, 0.5613633807301521, 0.5512685794830322, 0.5429275698661804, 0.5359073567986489, 0.5299250652194023, 0.5247503795027733, 0.5202226772904396, 0.5161969442367553, 0.5126135250329972, 0.5093915712833404, 0.5064764283299447, 0.5038039062023163]\n",
      "Losses [1.0334106910228729, 0.8059178328514099, 0.71268539249897, 0.6612471285462379, 0.6283605456352234, 0.6055069571733475, 0.5886118337512016, 0.5756767871975899, 0.565459997355938, 0.5571826675534248, 0.5503925096988678, 0.5446715337038041, 0.5397623547911644, 0.5355802100896835, 0.5319104546308517, 0.5286987367272377, 0.525813969373703, 0.5232550665736199, 0.5209590643644333, 0.5188987550139427]\n",
      "State Dict\n",
      "OrderedDict([('layers.0.weight', tensor([[ 0.0172,  0.0324,  0.0249,  ...,  0.0111, -0.0076,  0.0325],\n",
      "        [-0.0269, -0.0184,  0.0254,  ...,  0.0054,  0.0320, -0.0351],\n",
      "        [-0.0317, -0.0125, -0.0160,  ...,  0.0011, -0.0356, -0.0023],\n",
      "        ...,\n",
      "        [ 0.0048, -0.0149, -0.0270,  ...,  0.0193, -0.0040, -0.0268],\n",
      "        [-0.0120,  0.0225,  0.0339,  ...,  0.0253,  0.0004,  0.0347],\n",
      "        [ 0.0200,  0.0149,  0.0101,  ...,  0.0180, -0.0018, -0.0275]])), ('layers.0.bias', tensor([-0.0398,  0.3685,  0.1471,  0.0232,  0.1999,  0.4946,  0.0604,  0.3023,\n",
      "        -0.4448, -0.0106]))])\n"
     ]
    }
   ],
   "source": [
    "#Se cargan si están guardados\n",
    "import pickle\n",
    "\n",
    "#Cargar losses\n",
    "with open('losses_1layer.pkl', 'rb') as l:\n",
    "    losses_1layer = pickle.load(l)\n",
    "\n",
    "print('Losses', losses_1layer)\n",
    "\n",
    "with open('losses_1layer_val.pkl', 'rb') as l:\n",
    "    losses_1layer_val = pickle.load(l)\n",
    "\n",
    "print('Losses', losses_1layer_val)\n",
    "\n",
    "#Cargar modelo\n",
    "nn_model_1layer.load_state_dict(torch.load('model_1layer.pt'))\n",
    "print('State Dict')\n",
    "print(nn_model_1layer.state_dict())"
   ]
  },
  {
   "cell_type": "markdown",
   "id": "07dbf723",
   "metadata": {},
   "source": [
    "### Entrenamiento"
   ]
  },
  {
   "cell_type": "code",
   "execution_count": 135,
   "id": "820a74f2",
   "metadata": {},
   "outputs": [
    {
     "name": "stdout",
     "output_type": "stream",
     "text": [
      "Epoch: 1 - Train Loss: 1.312999 - Validation Loss: 0.812380\n",
      "Epoch: 2 - Train Loss: 0.663297 - Validation Loss: 0.564163\n",
      "Epoch: 3 - Train Loss: 0.509594 - Validation Loss: 0.470053\n",
      "Epoch: 4 - Train Loss: 0.440246 - Validation Loss: 0.419884\n",
      "Epoch: 5 - Train Loss: 0.400027 - Validation Loss: 0.388358\n",
      "Epoch: 6 - Train Loss: 0.373532 - Validation Loss: 0.366674\n",
      "Epoch: 7 - Train Loss: 0.354694 - Validation Loss: 0.350803\n",
      "Epoch: 8 - Train Loss: 0.340572 - Validation Loss: 0.338696\n",
      "Epoch: 9 - Train Loss: 0.329580 - Validation Loss: 0.329139\n",
      "Epoch: 10 - Train Loss: 0.320769 - Validation Loss: 0.321456\n",
      "Epoch: 11 - Train Loss: 0.313547 - Validation Loss: 0.315134\n",
      "Epoch: 12 - Train Loss: 0.307514 - Validation Loss: 0.309838\n",
      "Epoch: 13 - Train Loss: 0.302369 - Validation Loss: 0.305347\n",
      "Epoch: 14 - Train Loss: 0.297927 - Validation Loss: 0.301478\n",
      "Epoch: 15 - Train Loss: 0.294048 - Validation Loss: 0.298111\n",
      "Epoch: 16 - Train Loss: 0.290616 - Validation Loss: 0.295136\n",
      "Epoch: 17 - Train Loss: 0.287550 - Validation Loss: 0.292481\n",
      "Epoch: 18 - Train Loss: 0.284784 - Validation Loss: 0.290123\n",
      "Epoch: 19 - Train Loss: 0.282268 - Validation Loss: 0.287972\n",
      "Epoch: 20 - Train Loss: 0.279953 - Validation Loss: 0.286020\n"
     ]
    }
   ],
   "source": [
    "### Entrenamiento ###\n",
    "\n",
    "#Se crea la red y el optimizador\n",
    "nn_model_1layer = MyNN(layers = 1, neurons = (input_n, output_n))\n",
    "optim_1layer = optim.Adam(nn_model_1layer.parameters(), lr=learning_rate)\n",
    "\n",
    "#Se entrena\n",
    "losses_1layer, losses_1layer_val, best_model_1layer = epochs_training(20,  \n",
    "                                                        training_dataloader, validation_dataloader,\n",
    "                                                        nn_model_1layer, loss_fn, optim_1layer)"
   ]
  },
  {
   "cell_type": "code",
   "execution_count": 139,
   "id": "9f36cf61",
   "metadata": {},
   "outputs": [
    {
     "name": "stdout",
     "output_type": "stream",
     "text": [
      "[1.3129987030029298, 0.6632965086698532, 0.5095944277644158, 0.44024581742286684, 0.4000269418656826, 0.3735318301618099, 0.35469428458809854, 0.34057178276777267, 0.3295797506570816, 0.3207690506875515, 0.3135468944311142, 0.30751376968622207, 0.3023685605674982, 0.2979271937459707, 0.2940477225035429, 0.2906163672506809, 0.28754958394169805, 0.2847842773348093, 0.28226814658939836, 0.2799527724385262]\n",
      "[0.8123797124624252, 0.564163111448288, 0.4700528162717819, 0.4198837113380432, 0.38835813716053963, 0.36667362600564957, 0.3508030842244625, 0.3386961618065834, 0.32913917034864426, 0.32145568639039995, 0.3151335881650448, 0.3098380249738693, 0.30534698083996775, 0.30147812113165856, 0.29811066180467605, 0.29513619527220725, 0.2924809128046036, 0.2901227137446403, 0.287971565425396, 0.2860199773311615]\n"
     ]
    }
   ],
   "source": [
    "#Guardar mejor modelo\n",
    "torch.save(best_model_1layer, \"model_1layer.pt\")\n",
    "print(losses_1layer)\n",
    "print(losses_1layer_val)\n",
    "#Guardar losses\n",
    "with open('losses_1layer.pkl', 'wb') as l:\n",
    "    pickle.dump(losses_1layer, l)\n",
    "with open('losses_1layer_val.pkl', 'wb') as l:\n",
    "    pickle.dump(losses_1layer_val, l)"
   ]
  },
  {
   "cell_type": "markdown",
   "id": "fa836291",
   "metadata": {},
   "source": [
    "### Gráfico"
   ]
  },
  {
   "cell_type": "code",
   "execution_count": 140,
   "id": "fe12f393",
   "metadata": {},
   "outputs": [
    {
     "data": {
      "text/plain": [
       "Text(0.5, 1.0, 'Loss vs época en red de 1 capa')"
      ]
     },
     "execution_count": 140,
     "metadata": {},
     "output_type": "execute_result"
    },
    {
     "data": {
      "image/png": "[encoded data removed]",
      "text/plain": [
       "<Figure size 432x288 with 1 Axes>"
      ]
     },
     "metadata": {
      "needs_background": "light"
     },
     "output_type": "display_data"
    }
   ],
   "source": [
    "#Grafico entrenamiento\n",
    "fig, ax = plt.subplots()\n",
    "losses_1layer_plot = loss_plotter(ax, epochs_list, np.array(losses_1layer), \n",
    "                    np.array(losses_1layer_val))\n",
    "ax.set_title(\"Loss vs época en red de 1 capa\")"
   ]
  },
  {
   "cell_type": "markdown",
   "id": "b9ba1f35",
   "metadata": {},
   "source": [
    "### Test"
   ]
  },
  {
   "cell_type": "code",
   "execution_count": 141,
   "id": "02b64c28",
   "metadata": {},
   "outputs": [
    {
     "name": "stdout",
     "output_type": "stream",
     "text": [
      "Loss en test: 0.27580 - Accuracy: 92.31%\n"
     ]
    },
    {
     "data": {
      "image/png": "[encoded data removed]",
      "text/plain": [
       "<Figure size 720x576 with 2 Axes>"
      ]
     },
     "metadata": {
      "needs_background": "light"
     },
     "output_type": "display_data"
    }
   ],
   "source": [
    "test_1layer = test_MNIST(test_dataloader, nn_model_1layer, loss_fn)\n",
    "print('Loss en test: {loss:.5f} - Accuracy: {accuracy:.2f}%'.format(**test_1layer))\n",
    "\n",
    "cm_1layer = confusion_matrix_MNIST(test_dataloader, nn_model_1layer, \n",
    "                                    'Confusion Matrix 1 Layer Network')"
   ]
  },
  {
   "cell_type": "markdown",
   "id": "5651c8d6",
   "metadata": {},
   "source": [
    "## 2 Layer Neural Network"
   ]
  },
  {
   "cell_type": "markdown",
   "id": "8cefad5a",
   "metadata": {},
   "source": [
    "### Carga de modelo"
   ]
  },
  {
   "cell_type": "code",
   "execution_count": null,
   "id": "e672dff9",
   "metadata": {},
   "outputs": [],
   "source": [
    "#Se cargan si están guardados\n",
    "import pickle\n",
    "\n",
    "#Cargar losses\n",
    "with open('losses_2layer.pkl', 'rb') as l:\n",
    "    losses_2layer = pickle.load(l)\n",
    "\n",
    "print('Losses', losses_1layer)\n",
    "\n",
    "with open('losses_2layer_val.pkl', 'rb') as l:\n",
    "    losses_2layer_val = pickle.load(l)\n",
    "\n",
    "print('Losses', losses_2layer_val)\n",
    "\n",
    "#Cargar modelo\n",
    "nn_model_2layer.load_state_dict(torch.load('model_2layer.pt'))\n",
    "print('State Dict')\n",
    "print(nn_model_2layer.state_dict())"
   ]
  },
  {
   "cell_type": "markdown",
   "id": "52cabb1c",
   "metadata": {},
   "source": [
    "### Entrenamiento"
   ]
  },
  {
   "cell_type": "code",
   "execution_count": null,
   "id": "d3d74ec4",
   "metadata": {},
   "outputs": [],
   "source": [
    "### Entrenamiento ###\n",
    "\n",
    "#Se crea la red y el optimizador\n",
    "nn_model_2layer = MyNN(layers = 2, neurons = (input_n, hidden, output_n))\n",
    "optim_2layer = optim.Adam(nn_model_2layer.parameters(), lr=learning_rate)\n",
    "\n",
    "#Se entrena\n",
    "losses_2layer, losses_2layer_val, best_model_2layer = epochs_training(20,  \n",
    "                                                        training_dataloader, validation_dataloader,\n",
    "                                                        nn_model_2layer, loss_fn, optim_2layer)"
   ]
  },
  {
   "cell_type": "code",
   "execution_count": null,
   "id": "7e35e01e",
   "metadata": {},
   "outputs": [],
   "source": [
    "#Guardar mejor modelo\n",
    "torch.save(best_model_2layer, \"model_2layer.pt\")\n",
    "print(losses_2layer)\n",
    "print(losses_2layer_val)\n",
    "#Guardar losses\n",
    "with open('losses_2layer.pkl', 'wb') as l:\n",
    "    pickle.dump(losses_2layer, l)\n",
    "with open('losses_2layer_val.pkl', 'wb') as l:\n",
    "    pickle.dump(losses_2layer_val, l)"
   ]
  },
  {
   "cell_type": "markdown",
   "id": "ce883528",
   "metadata": {},
   "source": [
    "### Gráfico"
   ]
  },
  {
   "cell_type": "code",
   "execution_count": null,
   "id": "a7d8756d",
   "metadata": {},
   "outputs": [],
   "source": [
    "#Grafico entrenamiento\n",
    "fig, ax = plt.subplots()\n",
    "losses_2layer_plot = loss_plotter(ax, epochs_list, np.array(losses_2layer), \n",
    "                    np.array(losses_2layer_val))\n",
    "ax.set_title(\"Loss vs época en red de 2 capas\")"
   ]
  },
  {
   "cell_type": "markdown",
   "id": "047d679b",
   "metadata": {},
   "source": [
    "### Test"
   ]
  },
  {
   "cell_type": "code",
   "execution_count": null,
   "id": "d64950c7",
   "metadata": {},
   "outputs": [],
   "source": [
    "test_2layer = test_MNIST(test_dataloader, nn_model_2layer, loss_fn)\n",
    "print('Loss en test: {loss:.5f} - Accuracy: {accuracy:.2f}%'.format(**test_2layer))\n",
    "\n",
    "cm_2layer = confusion_matrix_MNIST(test_dataloader, nn_model_2layer, \n",
    "                                    'Confusion Matrix 1 Layer Network')"
   ]
  }
 ],
 "metadata": {
  "interpreter": {
   "hash": "e8a00227fbbeabfee3e4c7eae78ea7efab3aaaa5b33f3ff28071daefabaeab66"
  },
  "kernelspec": {
   "display_name": "Python 3.10.0 64-bit",
   "language": "python",
   "name": "python3"
  },
  "language_info": {
   "codemirror_mode": {
    "name": "ipython",
    "version": 3
   },
   "file_extension": ".py",
   "mimetype": "text/x-python",
   "name": "python",
   "nbconvert_exporter": "python",
   "pygments_lexer": "ipython3",
   "version": "3.10.0"
  }
 },
 "nbformat": 4,
 "nbformat_minor": 5
}
